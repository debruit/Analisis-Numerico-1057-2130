{
 "cells": [
  {
   "cell_type": "code",
   "execution_count": 1,
   "source": [
    "import numpy as np\n",
    "import math\n",
    "import matplotlib.pyplot as plt\n",
    "\n",
    "from sympy import *\n",
    "def funcA( x ):\n",
    "\treturn math.e ** x - x - 1\n"
   ],
   "outputs": [],
   "metadata": {}
  },
  {
   "cell_type": "code",
   "execution_count": 2,
   "source": [
    "def derivFunc( x ):\n",
    "\treturn math.e ** x - 1\n",
    "\n",
    "def newtonRaphson( x,f,e,n=0):\n",
    "\th = f(x) / derivFunc(x)\n",
    "\twhile abs(h) >= e:\n",
    "\t    h = f(x)/derivFunc(x)\n",
    "\t    x = x - h\n",
    "        # n+=1\n",
    "\n",
    "\tprint(\"La raiz es : \",\n",
    "\t\t\t\t\t\t\t\"%.4f\"% x)\n",
    "\n",
    "x0 = 1 "
   ],
   "outputs": [],
   "metadata": {}
  },
  {
   "cell_type": "code",
   "execution_count": 3,
   "source": [
    "newtonRaphson(x0,funcA,10e-12)"
   ],
   "outputs": [
    {
     "output_type": "stream",
     "name": "stdout",
     "text": [
      "La raiz es :  -0.0000\n"
     ]
    }
   ],
   "metadata": {}
  }
 ],
 "metadata": {
  "orig_nbformat": 4,
  "language_info": {
   "name": "python",
   "version": "3.8.5",
   "mimetype": "text/x-python",
   "codemirror_mode": {
    "name": "ipython",
    "version": 3
   },
   "pygments_lexer": "ipython3",
   "nbconvert_exporter": "python",
   "file_extension": ".py"
  },
  "kernelspec": {
   "name": "python3",
   "display_name": "Python 3.8.5 64-bit"
  },
  "interpreter": {
   "hash": "aee8b7b246df8f9039afb4144a1f6fd8d2ca17a180786b69acc140d282b71a49"
  }
 },
 "nbformat": 4,
 "nbformat_minor": 2
}