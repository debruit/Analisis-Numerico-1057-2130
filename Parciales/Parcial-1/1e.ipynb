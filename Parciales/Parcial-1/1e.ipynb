{
 "cells": [
  {
   "cell_type": "code",
   "execution_count": 19,
   "source": [
    "import numpy as np\n",
    "import matplotlib.pyplot as plt\n",
    "\n",
    "def funcA( x ):\n",
    "\treturn x**3 + 2*x + (3-1/3)\n",
    "\n",
    "def funcB( x ):\n",
    "\treturn x**3 + 2*x + (3+np.sqrt(5))\n"
   ],
   "outputs": [],
   "metadata": {}
  },
  {
   "cell_type": "code",
   "execution_count": 25,
   "source": [
    "def derivFunc( x ):\n",
    "\treturn 3 * x**2 +2\n",
    "\n",
    "def newtonRaphson( x,f,e,n=0):\n",
    "    a=0\n",
    "    h = f(x) / derivFunc(x)\n",
    "    while abs(h) >= e:\n",
    "\t    h = f(x)/derivFunc(x)\n",
    "\t    x = x - h\n",
    "    print(\"La raiz es : \",\"%.4f\"% x)\n",
    "\n",
    "x0 = 0 "
   ],
   "outputs": [],
   "metadata": {}
  },
  {
   "cell_type": "code",
   "execution_count": 17,
   "source": [
    "newtonRaphson(x0,funcA,10e-12)"
   ],
   "outputs": [
    {
     "output_type": "stream",
     "name": "stdout",
     "text": [
      "La raiz es :  -0.9305\n"
     ]
    }
   ],
   "metadata": {}
  },
  {
   "cell_type": "code",
   "execution_count": 18,
   "source": [
    "newtonRaphson(x0,funcB,10e-12)"
   ],
   "outputs": [
    {
     "output_type": "stream",
     "name": "stdout",
     "text": [
      "La raiz es :  -1.3601\n"
     ]
    }
   ],
   "metadata": {}
  }
 ],
 "metadata": {
  "orig_nbformat": 4,
  "language_info": {
   "name": "python",
   "version": "3.8.5",
   "mimetype": "text/x-python",
   "codemirror_mode": {
    "name": "ipython",
    "version": 3
   },
   "pygments_lexer": "ipython3",
   "nbconvert_exporter": "python",
   "file_extension": ".py"
  },
  "kernelspec": {
   "name": "python3",
   "display_name": "Python 3.8.5 64-bit"
  },
  "interpreter": {
   "hash": "aee8b7b246df8f9039afb4144a1f6fd8d2ca17a180786b69acc140d282b71a49"
  }
 },
 "nbformat": 4,
 "nbformat_minor": 2
}