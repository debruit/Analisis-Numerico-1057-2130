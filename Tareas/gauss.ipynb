{
 "cells": [
  {
   "cell_type": "code",
   "execution_count": 7,
   "source": [
    "import numpy as np\n",
    "\n",
    "def gauss(a, b):\n",
    "    n_ecuaciones = len(b)\n",
    "\n",
    "    m_aumentada = np.concatenate([a,b],axis=1)\n",
    "\n",
    "    for e in range(n_ecuaciones):\n",
    "        m_aumentada[e,e:] = m_aumentada[e,e:] / m_aumentada[e,e]        # Normalizar fila\n",
    "        for fila in range(e+1,n_ecuaciones):\n",
    "            m_aumentada[fila,e:] = m_aumentada[fila,e:] - (m_aumentada[fila,e]* m_aumentada[e,e:])      # Reducir la fila de abajo\n",
    "    \n",
    "    solucion = np.zeros(n_ecuaciones)       # Se llena de ceros la matriz\n",
    "    solucion[n_ecuaciones-1]=m_aumentada[n_ecuaciones-1,n_ecuaciones]       # Se hace sustitución directa de la variable xn\n",
    "\n",
    "    for i in range(n_ecuaciones-2,-1,-1):\n",
    "        solucion[i]= m_aumentada[i,n_ecuaciones]-np.dot(solucion[i+1:n_ecuaciones],m_aumentada[i,i+1:n_ecuaciones])     # Sustitución directa de las variables, se resuelve el sistema triangular superior\n",
    "    return solucion\n"
   ],
   "outputs": [],
   "metadata": {}
  },
  {
   "cell_type": "code",
   "execution_count": 8,
   "source": [
    "def pasos_gauss(n):\n",
    "    pasos=0\n",
    "    for e in range(n):\n",
    "        for i in range(e+1,n):\n",
    "            for j in range(e,n+1):\n",
    "                pasos+= 1\n",
    "    return pasos"
   ],
   "outputs": [],
   "metadata": {}
  },
  {
   "cell_type": "code",
   "execution_count": 9,
   "source": [
    "pasos_gauss(10)"
   ],
   "outputs": [
    {
     "output_type": "execute_result",
     "data": {
      "text/plain": [
       "375"
      ]
     },
     "metadata": {},
     "execution_count": 9
    }
   ],
   "metadata": {}
  },
  {
   "cell_type": "code",
   "execution_count": 10,
   "source": [
    "import time\n",
    "def tiempo_gauss(a,b):\n",
    "    t1= time.process_time()\n",
    "    gauss(a,b)\n",
    "    t2 = time.process_time()\n",
    "    return(t2-t1)"
   ],
   "outputs": [],
   "metadata": {}
  },
  {
   "cell_type": "code",
   "execution_count": 16,
   "source": [
    "a = np.array([[4,2,5],[2,5,8],[2,4,3]],dtype=float)\n",
    "a2 = np.array([[3.9,2,5],[2,5,8],[2,4,3]],dtype=float)      # Arreglo con error, en vez de 4 se tiene 3.9\n",
    "b = np.array([[18.0],[27.3],[16.2]],dtype=float)\n",
    "\n",
    "if(np.linalg.det(a) != 0):      # Determinante distinto de cero\n",
    "    x = gauss(a, b)\n",
    "    print(\"Solución: \",x,\"\\n\"+\"Pasos para hallar la solución: \",pasos_gauss(len(b)),\"\\n\"+\"Tiempo para solución: \",tiempo_gauss(a, b))\n",
    "\n",
    "    x2 = gauss(a2, b)\n",
    "    print(\"\\nError en la solución: \",x-x2)\n",
    "\n",
    "    dot_p = np.dot(a,x)\n",
    "    print(\"\\nError de redondeo en las constantes: \")\n",
    "    for i in range(len(b)):\n",
    "        error = dot_p[i]-b[i]\n",
    "        print(error)"
   ],
   "outputs": [
    {
     "output_type": "stream",
     "name": "stdout",
     "text": [
      "Solución:  [1.2 2.1 1.8] \n",
      "Pasos para hallar la solución:  11 \n",
      "Tiempo para solución:  0.00011399999999994748\n",
      "\n",
      "Error en la solución:  [-0.03623446  0.02131439 -0.00426288]\n",
      "\n",
      "Error de redondeo en las constantes: \n",
      "[0.]\n",
      "[3.55271368e-15]\n",
      "[0.]\n"
     ]
    }
   ],
   "metadata": {}
  },
  {
   "cell_type": "code",
   "execution_count": 12,
   "source": [
    "n_solucion= np.linalg.solve(a,b)\n",
    "print(\"Solución con NumPy: \\n\",n_solucion)"
   ],
   "outputs": [
    {
     "output_type": "stream",
     "name": "stdout",
     "text": [
      "Solución con NumPy: \n",
      " [[1.2]\n",
      " [2.1]\n",
      " [1.8]]\n"
     ]
    }
   ],
   "metadata": {}
  }
 ],
 "metadata": {
  "orig_nbformat": 4,
  "language_info": {
   "name": "python",
   "version": "3.8.5",
   "mimetype": "text/x-python",
   "codemirror_mode": {
    "name": "ipython",
    "version": 3
   },
   "pygments_lexer": "ipython3",
   "nbconvert_exporter": "python",
   "file_extension": ".py"
  },
  "kernelspec": {
   "name": "python3",
   "display_name": "Python 3.8.5 64-bit"
  },
  "interpreter": {
   "hash": "aee8b7b246df8f9039afb4144a1f6fd8d2ca17a180786b69acc140d282b71a49"
  }
 },
 "nbformat": 4,
 "nbformat_minor": 2
}