{
 "cells": [
  {
   "cell_type": "code",
   "execution_count": 1,
   "metadata": {},
   "outputs": [],
   "source": [
    "import numpy as np\n",
    "\n",
    "def gauss_jordan(a, b):\n",
    "    n_ecuaciones = len(b)\n",
    "\n",
    "    m_aumentada = np.concatenate([a,b],axis=1)      # axis=1 para que concatene la matriz como una columna\n",
    "\n",
    "    for e in range(n_ecuaciones):\n",
    "        m_aumentada[e,e:] = m_aumentada[e,e:] / m_aumentada[e,e]        # Normalizar la fila\n",
    "        for fila in range(n_ecuaciones):\n",
    "            if fila !=e:\n",
    "                m_aumentada[fila,e:] = m_aumentada[fila,e:] - (m_aumentada[fila,e]* m_aumentada[e,e:])      # Reducir las otras filas\n",
    "    solucion = m_aumentada[:,n_ecuaciones]      # Devuelve la última columna con la solucion de las variables\n",
    "    return solucion"
   ]
  },
  {
   "cell_type": "code",
   "execution_count": 2,
   "metadata": {},
   "outputs": [],
   "source": [
    "def matriz_inversa(a, b, c):\n",
    "    n_ecuaciones = len(b)\n",
    "\n",
    "    m_aumentada = np.concatenate([a,b,c],axis=1)        # axis=1 para que concatene la matriz como una columna\n",
    "\n",
    "    for e in range(n_ecuaciones):\n",
    "        m_aumentada[e,e:] = m_aumentada[e,e:] / m_aumentada[e,e]        # Normalizar la fila\n",
    "        for fila in range(n_ecuaciones):\n",
    "            if fila !=e:\n",
    "                m_aumentada[fila,e:] = m_aumentada[fila,e:] - (m_aumentada[fila,e]* m_aumentada[e,e:])      # Reducir las otras filas\n",
    "    solucion = m_aumentada[:,n_ecuaciones+1:]       # Devuelve la última columna con la matriz inversa de A\n",
    "    return solucion"
   ]
  },
  {
   "cell_type": "code",
   "execution_count": 3,
   "metadata": {},
   "outputs": [],
   "source": [
    "def pasos_gauss_jordan(n):\n",
    "    pasos=0\n",
    "    for e in range(n):\n",
    "        for i in range(n):\n",
    "            if i != e:\n",
    "                for j in range(e,n+1):\n",
    "                    pasos+= 1\n",
    "    return pasos"
   ]
  },
  {
   "cell_type": "code",
   "execution_count": 4,
   "metadata": {},
   "outputs": [
    {
     "data": {
      "text/plain": [
       "585"
      ]
     },
     "execution_count": 4,
     "metadata": {},
     "output_type": "execute_result"
    }
   ],
   "source": [
    "pasos_gauss_jordan(10)"
   ]
  },
  {
   "cell_type": "code",
   "execution_count": 5,
   "metadata": {},
   "outputs": [],
   "source": [
    "import time\n",
    "def tiempo_gauss_jordan(a,b):\n",
    "    t1= time.process_time()\n",
    "    gauss_jordan(a,b)\n",
    "    t2 = time.process_time()\n",
    "    return(t2-t1)"
   ]
  },
  {
   "cell_type": "code",
   "execution_count": 10,
   "metadata": {},
   "outputs": [
    {
     "name": "stdout",
     "output_type": "stream",
     "text": [
      "Solución:  [1.2 2.1 1.8] \n",
      "Pasos para hallar la solución:  18 \n",
      "Tiempo para solución:  0.00023799999999996047\n",
      "\n",
      "Error en la solución:  [-0.03623446  0.02131439 -0.00426288]\n",
      "\n",
      "Error de redondeo en las constantes: \n",
      "[0.]\n",
      "[3.55271368e-15]\n",
      "[0.]\n"
     ]
    }
   ],
   "source": [
    "a = np.array([[4,2,5],[2,5,8],[2,4,3]],dtype=float)\n",
    "a2 = np.array([[3.9,2,5],[2,5,8],[2,4,3]],dtype=float)      # Arreglo con error, en vez de 4 se tiene 3.9\n",
    "b = np.array([[18.0],[27.3],[16.2]],dtype=float)\n",
    "c = np.array([[1,0,0],[0,1,0],[0,0,1]],dtype=float)     # Matriz identidad\n",
    "\n",
    "if(np.linalg.det(a) != 0):      # Determinante distinto de cero\n",
    "    x = gauss_jordan(a, b)\n",
    "    print(\"Solución: \",x,\"\\n\"+\"Pasos para hallar la solución: \",pasos_gauss_jordan(len(b)),\"\\n\"+\"Tiempo para solución: \",tiempo_gauss_jordan(a, b))\n",
    "\n",
    "    x2 = gauss_jordan(a2, b)\n",
    "    print(\"\\nError en la solución: \",x-x2)\n",
    "\n",
    "    dot_p = np.dot(a,x)\n",
    "    print(\"\\nError de redondeo en las constantes: \")\n",
    "    for i in range(len(b)):\n",
    "        error = dot_p[i]-b[i]\n",
    "        print(error)\n"
   ]
  },
  {
   "cell_type": "code",
   "execution_count": 7,
   "metadata": {},
   "outputs": [
    {
     "name": "stdout",
     "output_type": "stream",
     "text": [
      "Solución con NumPy: \n",
      " [[1.2]\n",
      " [2.1]\n",
      " [1.8]]\n"
     ]
    }
   ],
   "source": [
    "n_solucion= np.linalg.solve(a,b)\n",
    "print(\"Solución con NumPy: \\n\",n_solucion)"
   ]
  },
  {
   "cell_type": "code",
   "execution_count": 8,
   "metadata": {},
   "outputs": [
    {
     "name": "stdout",
     "output_type": "stream",
     "text": [
      "[[ 0.29310345 -0.24137931  0.15517241]\n",
      " [-0.17241379 -0.03448276  0.37931034]\n",
      " [ 0.03448276  0.20689655 -0.27586207]]\n",
      "\n",
      " [[ 0.29310345 -0.24137931  0.15517241]\n",
      " [-0.17241379 -0.03448276  0.37931034]\n",
      " [ 0.03448276  0.20689655 -0.27586207]]\n"
     ]
    }
   ],
   "source": [
    "# Matriz inversa con Gauss-Jordan\n",
    "\n",
    "y = matriz_inversa(a, b, c)\n",
    "print(y)\n",
    "\n",
    "print(\"\\n\",np.linalg.inv(a))"
   ]
  }
 ],
 "metadata": {
  "interpreter": {
   "hash": "aee8b7b246df8f9039afb4144a1f6fd8d2ca17a180786b69acc140d282b71a49"
  },
  "kernelspec": {
   "display_name": "Python 3.8.5 64-bit",
   "name": "python3"
  },
  "language_info": {
   "codemirror_mode": {
    "name": "ipython",
    "version": 3
   },
   "file_extension": ".py",
   "mimetype": "text/x-python",
   "name": "python",
   "nbconvert_exporter": "python",
   "pygments_lexer": "ipython3",
   "version": "3.8.5"
  },
  "orig_nbformat": 4
 },
 "nbformat": 4,
 "nbformat_minor": 2
}
