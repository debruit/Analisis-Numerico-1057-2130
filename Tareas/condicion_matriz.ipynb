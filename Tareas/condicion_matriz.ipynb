{
 "cells": [
  {
   "cell_type": "markdown",
   "source": [
    "Número de condición de una matriz"
   ],
   "metadata": {}
  },
  {
   "cell_type": "markdown",
   "source": [
    "El número de condición de una matriz se usa para cuantificar su nivel de mal condicionamiento. Es siempre un número mayor que 1, por lo que el sistema Ax = b estará mejor condicionado cuanto más próximo a 1 esté dicho cond(A)."
   ],
   "metadata": {}
  },
  {
   "cell_type": "code",
   "execution_count": 12,
   "source": [
    "import numpy as np\n",
    "from IPython.display import Latex\n",
    "\n",
    "# x + y = 2\n",
    "# 1.0001x + y = 2.0001\n",
    "\n",
    "matriz = np.array([[1,1/2,1/3],[1/2,1/3,1/4],[1/3,1/4,1/5]],dtype=float)\n",
    "constantes = np.array([[10],[20],[30]])\n",
    "# matriz_2 = np.array([[1.1,1],[1.0001,1]],dtype=np.float)    # Matriz con error"
   ],
   "outputs": [],
   "metadata": {}
  },
  {
   "cell_type": "code",
   "execution_count": 4,
   "source": [
    "# Norma de la matriz 1\n",
    "norma_inf_matriz_1 = np.linalg.norm(matriz,np.inf)       # Norma de fila\n",
    "norma_inf_matriz_1"
   ],
   "outputs": [
    {
     "output_type": "execute_result",
     "data": {
      "text/plain": [
       "1.8333333333333333"
      ]
     },
     "metadata": {},
     "execution_count": 4
    }
   ],
   "metadata": {}
  },
  {
   "cell_type": "code",
   "execution_count": 83,
   "source": [
    "# Norma de la matriz 2\n",
    "norma_inf_matriz_2 = np.linalg.norm(matriz_2,np.inf)       # Norma de fila\n",
    "norma_inf_matriz_2"
   ],
   "outputs": [
    {
     "output_type": "stream",
     "name": "stdout",
     "text": [
      "2.1\n"
     ]
    }
   ],
   "metadata": {}
  },
  {
   "cell_type": "code",
   "execution_count": 5,
   "source": [
    "inversa_1 = np.linalg.inv(matriz)     # Inversa de una matriz\n",
    "# inversa_2 = np.linalg.inv(matriz_2)\n",
    "print(inversa_1)\n",
    "# print(inversa_2)"
   ],
   "outputs": [
    {
     "output_type": "stream",
     "name": "stdout",
     "text": [
      "[[   9.  -36.   30.]\n",
      " [ -36.  192. -180.]\n",
      " [  30. -180.  180.]]\n"
     ]
    }
   ],
   "metadata": {}
  },
  {
   "cell_type": "code",
   "execution_count": 6,
   "source": [
    "norma_inf_matriz_1 * np.linalg.norm(inversa_1,np.inf) # Número de condición con la norma infinito"
   ],
   "outputs": [
    {
     "output_type": "execute_result",
     "data": {
      "text/plain": [
       "748.0000000000027"
      ]
     },
     "metadata": {},
     "execution_count": 6
    }
   ],
   "metadata": {}
  },
  {
   "cell_type": "code",
   "execution_count": 15,
   "source": [
    "# Número de condición de la matriz 1\n",
    "\n",
    "num_condicion_inf = np.linalg.cond(matriz,np.inf)       # Número de condición con la norma infinito\n",
    "Latex(str(num_condicion_inf))"
   ],
   "outputs": [
    {
     "output_type": "execute_result",
     "data": {
      "text/latex": [
       "748.0000000000027"
      ],
      "text/plain": [
       "<IPython.core.display.Latex object>"
      ]
     },
     "metadata": {},
     "execution_count": 15
    }
   ],
   "metadata": {}
  },
  {
   "cell_type": "markdown",
   "source": [
    "$$\n",
    "$$"
   ],
   "metadata": {}
  },
  {
   "cell_type": "code",
   "execution_count": 86,
   "source": [
    "# Número de condición de la matriz 2\n",
    "\n",
    "num_condicion_inf = np.linalg.cond(matriz_2,np.inf)       # Número de condición con la norma infinito\n",
    "num_condicion_inf"
   ],
   "outputs": [
    {
     "output_type": "execute_result",
     "data": {
      "text/plain": [
       "44.1462462462462"
      ]
     },
     "metadata": {},
     "execution_count": 86
    }
   ],
   "metadata": {}
  },
  {
   "cell_type": "code",
   "execution_count": 7,
   "source": [
    "# Solución matriz 1\n",
    "x_1= np.linalg.solve(matriz,constantes)\n",
    "print(\"Solución con NumPy: \\n\",x_1)"
   ],
   "outputs": [
    {
     "output_type": "stream",
     "name": "stdout",
     "text": [
      "Solución con NumPy: \n",
      " [[  270.]\n",
      " [-1920.]\n",
      " [ 2100.]]\n"
     ]
    }
   ],
   "metadata": {}
  },
  {
   "cell_type": "code",
   "execution_count": 8,
   "source": [
    "np.linalg.det(matriz)"
   ],
   "outputs": [
    {
     "output_type": "execute_result",
     "data": {
      "text/plain": [
       "0.00046296296296296146"
      ]
     },
     "metadata": {},
     "execution_count": 8
    }
   ],
   "metadata": {}
  },
  {
   "cell_type": "code",
   "execution_count": 88,
   "source": [
    "# Solución matriz 2\n",
    "x_2= np.linalg.solve(matriz_2,constantes)\n",
    "print(\"Solución con NumPy: \\n\",x_2)"
   ],
   "outputs": [
    {
     "output_type": "stream",
     "name": "stdout",
     "text": [
      "Solución con NumPy: \n",
      " [[-1.0010010e-03]\n",
      " [ 2.0011011e+00]]\n"
     ]
    }
   ],
   "metadata": {}
  },
  {
   "cell_type": "code",
   "execution_count": 89,
   "source": [
    "# Error relativo de la solución\n",
    "\n",
    "norma_solucion_matriz_1 = np.linalg.norm(x_1,np.inf)\n",
    "norma_solucion_matriz_2 = np.linalg.norm(x_2,np.inf)\n",
    "\n",
    "error_solucion = (norma_solucion_matriz_1 - norma_solucion_matriz_2)/norma_solucion_matriz_1\n",
    "np.absolute(error_solucion*100)\n"
   ],
   "outputs": [
    {
     "output_type": "execute_result",
     "data": {
      "text/plain": [
       "100.11011010966595"
      ]
     },
     "metadata": {},
     "execution_count": 89
    }
   ],
   "metadata": {}
  },
  {
   "cell_type": "code",
   "execution_count": 90,
   "source": [
    "# Error relativo de la matriz\n",
    "\n",
    "error_matriz = (norma_inf_matriz_1 - norma_inf_matriz_2) / norma_inf_matriz_1\n",
    "np.absolute(error_matriz*100)"
   ],
   "outputs": [
    {
     "output_type": "execute_result",
     "data": {
      "text/plain": [
       "4.9947502624868925"
      ]
     },
     "metadata": {},
     "execution_count": 90
    }
   ],
   "metadata": {}
  }
 ],
 "metadata": {
  "orig_nbformat": 4,
  "language_info": {
   "name": "python",
   "version": "3.8.5",
   "mimetype": "text/x-python",
   "codemirror_mode": {
    "name": "ipython",
    "version": 3
   },
   "pygments_lexer": "ipython3",
   "nbconvert_exporter": "python",
   "file_extension": ".py"
  },
  "kernelspec": {
   "name": "python3",
   "display_name": "Python 3.8.5 64-bit"
  },
  "interpreter": {
   "hash": "aee8b7b246df8f9039afb4144a1f6fd8d2ca17a180786b69acc140d282b71a49"
  }
 },
 "nbformat": 4,
 "nbformat_minor": 2
}