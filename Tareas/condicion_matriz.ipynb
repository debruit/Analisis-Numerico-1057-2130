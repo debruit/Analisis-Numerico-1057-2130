{
 "cells": [
  {
   "cell_type": "markdown",
   "metadata": {},
   "source": [
    "Número de condición de una matriz"
   ]
  },
  {
   "cell_type": "markdown",
   "metadata": {},
   "source": [
    "El número de condición de una matriz se usa para cuantificar su nivel de mal condicionamiento. Es siempre un número mayor que 1, por lo que el sistema Ax = b estará mejor condicionado cuanto más próximo a 1 esté dicho cond(A)."
   ]
  },
  {
   "cell_type": "code",
   "execution_count": 12,
   "metadata": {},
   "outputs": [],
   "source": [
    "import numpy as np\n",
    "from IPython.display import Latex\n",
    "\n",
    "# x + y = 2\n",
    "# 1.0001x + y = 2.0001\n",
    "\n",
    "matriz = np.array([[1,1/2,1/3],[1/2,1/3,1/4],[1/3,1/4,1/5]],dtype=float)\n",
    "constantes = np.array([[10],[20],[30]])\n",
    "# matriz_2 = np.array([[1.1,1],[1.0001,1]],dtype=np.float)    # Matriz con error"
   ]
  },
  {
   "cell_type": "code",
   "execution_count": 4,
   "metadata": {},
   "outputs": [
    {
     "data": {
      "text/plain": [
       "1.8333333333333333"
      ]
     },
     "execution_count": 4,
     "metadata": {},
     "output_type": "execute_result"
    }
   ],
   "source": [
    "# Norma de la matriz 1\n",
    "norma_inf_matriz_1 = np.linalg.norm(matriz,np.inf)       # Norma de fila\n",
    "norma_inf_matriz_1"
   ]
  },
  {
   "cell_type": "code",
   "execution_count": 83,
   "metadata": {},
   "outputs": [
    {
     "name": "stdout",
     "output_type": "stream",
     "text": [
      "2.1\n"
     ]
    }
   ],
   "source": [
    "# Norma de la matriz 2\n",
    "norma_inf_matriz_2 = np.linalg.norm(matriz_2,np.inf)       # Norma de fila\n",
    "norma_inf_matriz_2"
   ]
  },
  {
   "cell_type": "code",
   "execution_count": 5,
   "metadata": {},
   "outputs": [
    {
     "name": "stdout",
     "output_type": "stream",
     "text": [
      "[[   9.  -36.   30.]\n",
      " [ -36.  192. -180.]\n",
      " [  30. -180.  180.]]\n"
     ]
    }
   ],
   "source": [
    "inversa_1 = np.linalg.inv(matriz)     # Inversa de una matriz\n",
    "# inversa_2 = np.linalg.inv(matriz_2)\n",
    "print(inversa_1)\n",
    "# print(inversa_2)"
   ]
  },
  {
   "cell_type": "code",
   "execution_count": 6,
   "metadata": {},
   "outputs": [
    {
     "data": {
      "text/plain": [
       "748.0000000000027"
      ]
     },
     "execution_count": 6,
     "metadata": {},
     "output_type": "execute_result"
    }
   ],
   "source": [
    "norma_inf_matriz_1 * np.linalg.norm(inversa_1,np.inf) # Número de condición con la norma infinito"
   ]
  },
  {
   "cell_type": "code",
   "execution_count": 15,
   "metadata": {},
   "outputs": [
    {
     "data": {
      "text/latex": [
       "748.0000000000027"
      ],
      "text/plain": [
       "<IPython.core.display.Latex object>"
      ]
     },
     "execution_count": 15,
     "metadata": {},
     "output_type": "execute_result"
    }
   ],
   "source": [
    "# Número de condición de la matriz 1\n",
    "\n",
    "num_condicion_inf = np.linalg.cond(matriz,np.inf)       # Número de condición con la norma infinito\n",
    "Latex(str(num_condicion_inf))"
   ]
  },
  {
   "cell_type": "markdown",
   "metadata": {},
   "source": [
    "$$\n",
    "$$"
   ]
  },
  {
   "cell_type": "code",
   "execution_count": 86,
   "metadata": {},
   "outputs": [
    {
     "data": {
      "text/plain": [
       "44.1462462462462"
      ]
     },
     "execution_count": 86,
     "metadata": {},
     "output_type": "execute_result"
    }
   ],
   "source": [
    "# Número de condición de la matriz 2\n",
    "\n",
    "num_condicion_inf = np.linalg.cond(matriz_2,np.inf)       # Número de condición con la norma infinito\n",
    "num_condicion_inf"
   ]
  },
  {
   "cell_type": "code",
   "execution_count": 7,
   "metadata": {},
   "outputs": [
    {
     "name": "stdout",
     "output_type": "stream",
     "text": [
      "Solución con NumPy: \n",
      " [[  270.]\n",
      " [-1920.]\n",
      " [ 2100.]]\n"
     ]
    }
   ],
   "source": [
    "# Solución matriz 1\n",
    "x_1= np.linalg.solve(matriz,constantes)\n",
    "print(\"Solución con NumPy: \\n\",x_1)"
   ]
  },
  {
   "cell_type": "code",
   "execution_count": 8,
   "metadata": {},
   "outputs": [
    {
     "data": {
      "text/plain": [
       "0.00046296296296296146"
      ]
     },
     "execution_count": 8,
     "metadata": {},
     "output_type": "execute_result"
    }
   ],
   "source": [
    "np.linalg.det(matriz)"
   ]
  },
  {
   "cell_type": "code",
   "execution_count": 88,
   "metadata": {},
   "outputs": [
    {
     "name": "stdout",
     "output_type": "stream",
     "text": [
      "Solución con NumPy: \n",
      " [[-1.0010010e-03]\n",
      " [ 2.0011011e+00]]\n"
     ]
    }
   ],
   "source": [
    "# Solución matriz 2\n",
    "x_2= np.linalg.solve(matriz_2,constantes)\n",
    "print(\"Solución con NumPy: \\n\",x_2)"
   ]
  },
  {
   "cell_type": "code",
   "execution_count": 89,
   "metadata": {},
   "outputs": [
    {
     "data": {
      "text/plain": [
       "100.11011010966595"
      ]
     },
     "execution_count": 89,
     "metadata": {},
     "output_type": "execute_result"
    }
   ],
   "source": [
    "# Error relativo de la solución\n",
    "\n",
    "norma_solucion_matriz_1 = np.linalg.norm(x_1,np.inf)\n",
    "norma_solucion_matriz_2 = np.linalg.norm(x_2,np.inf)\n",
    "\n",
    "error_solucion = (norma_solucion_matriz_1 - norma_solucion_matriz_2)/norma_solucion_matriz_1\n",
    "np.absolute(error_solucion*100)\n"
   ]
  },
  {
   "cell_type": "code",
   "execution_count": 90,
   "metadata": {},
   "outputs": [
    {
     "data": {
      "text/plain": [
       "4.9947502624868925"
      ]
     },
     "execution_count": 90,
     "metadata": {},
     "output_type": "execute_result"
    }
   ],
   "source": [
    "# Error relativo de la matriz\n",
    "\n",
    "error_matriz = (norma_inf_matriz_1 - norma_inf_matriz_2) / norma_inf_matriz_1\n",
    "np.absolute(error_matriz*100)"
   ]
  }
 ],
 "metadata": {
  "interpreter": {
   "hash": "aee8b7b246df8f9039afb4144a1f6fd8d2ca17a180786b69acc140d282b71a49"
  },
  "kernelspec": {
   "display_name": "Python 3.8.5 64-bit",
   "name": "python3"
  },
  "language_info": {
   "codemirror_mode": {
    "name": "ipython",
    "version": 3
   },
   "file_extension": ".py",
   "mimetype": "text/x-python",
   "name": "python",
   "nbconvert_exporter": "python",
   "pygments_lexer": "ipython3",
   "version": "3.8.5"
  },
  "orig_nbformat": 4
 },
 "nbformat": 4,
 "nbformat_minor": 2
}
