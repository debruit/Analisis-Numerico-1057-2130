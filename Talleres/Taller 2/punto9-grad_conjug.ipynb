{
 "cells": [
  {
   "cell_type": "markdown",
   "source": [
    "El método del gradiente conjugado es un algoritmo para la solución numérica de determinados sistemas de ecuaciones lineales, concretamente aquellos cuya matriz es definida y positiva. El método del gradiente conjugado suele implementarse como un algoritmo iterativo, aplicable a sistemas dispersos que son demasiado grandes para ser tratados por una implementación directa u otros métodos directos como la descomposición de Cholesky. Los sistemas dispersos grandes suelen surgir al resolver numéricamente ecuaciones diferenciales parciales o problemas de optimización."
   ],
   "metadata": {}
  },
  {
   "cell_type": "code",
   "execution_count": 148,
   "source": [
    "import numpy as np\n",
    "from scipy.sparse.linalg import cg\n",
    "import scipy.sparse as spy\n",
    "import time\n",
    "\n",
    "def conjgrad(A, b, x):\n",
    "    r = b - A.dot(x)\n",
    "    p = r\n",
    "    rsold = np.dot(np.transpose(r), r)\n",
    "    \n",
    "    for i in range(len(b)):\n",
    "        Ap = np.dot(A, p)\n",
    "        alpha = rsold / np.dot(np.transpose(p), Ap)\n",
    "        x = x + alpha * p\n",
    "        r = r - alpha * Ap\n",
    "        rsnew = np.dot(np.transpose(r), r)\n",
    "        if np.sqrt(rsnew) < 1e-10:\n",
    "            break\n",
    "        p = r + (rsnew/rsold)*p\n",
    "        rsold = rsnew\n",
    "    return x, iter"
   ],
   "outputs": [],
   "metadata": {}
  },
  {
   "cell_type": "code",
   "execution_count": 149,
   "source": [
    "a = np.array([[1,1/2,1/3],[1/2,1/3,1/4],[1/3,1/4,1/5]],dtype=float)\n",
    "b = np.array([[10],[20],[30]],dtype=float)\n",
    "x = np.ones((a.shape[0], 1))\n",
    "\n",
    "t1= time.time()\n",
    "conjgrad(a,b,x)         # Método propio\n",
    "t2= time.time()\n",
    "print(\"Tiempo con método propio: \",t2 - t1)\n",
    "np.linalg.solve(a,b)        # Solución con Numpy\n",
    "t3= time.time()\n",
    "print(\"Tiempo con Numpy: \",t3 - t2)\n",
    "cg(a,b)         # Solución con Scipy\n",
    "t4= time.time()\n",
    "print(\"Tiempo con Scipy: \",t4 - t3)"
   ],
   "outputs": [
    {
     "output_type": "stream",
     "name": "stdout",
     "text": [
      "Tiempo con método propio:  0.0002911090850830078\n",
      "Tiempo con Numpy:  0.0003540515899658203\n",
      "Tiempo con Scipy:  0.0006136894226074219\n"
     ]
    }
   ],
   "metadata": {}
  },
  {
   "cell_type": "code",
   "execution_count": 150,
   "source": [
    "n=100\n",
    "a = spy.rand(n,n,density=0.5).toarray() # 50% de la matriz dispersa con ceros\n",
    "b = np.ones((a.shape[0], 1))    # Se llena el arreglo con unos\n",
    "x = np.ones((a.shape[0], 1))    # Se llena el arreglo con unos\n",
    "\n",
    "t1= time.time()\n",
    "conjgrad(a,b,x)     # Método propio\n",
    "t2= time.time()\n",
    "print(\"Tiempo con método propio: \",t2 - t1)\n",
    "np.linalg.solve(a,b)        # Solución con Numpy\n",
    "t3= time.time()\n",
    "print(\"Tiempo con Numpy: \",t3 - t2)\n",
    "cg(a,b)         # Solución con Scipy\n",
    "t4= time.time()\n",
    "print(\"Tiempo con Scipy: \",t4 - t3)"
   ],
   "outputs": [
    {
     "output_type": "stream",
     "name": "stdout",
     "text": [
      "Tiempo con método propio:  0.004247188568115234\n",
      "Tiempo con Numpy:  0.0006756782531738281\n",
      "Tiempo con Scipy:  0.07390213012695312\n"
     ]
    }
   ],
   "metadata": {}
  }
 ],
 "metadata": {
  "orig_nbformat": 4,
  "language_info": {
   "name": "python",
   "version": "3.8.5",
   "mimetype": "text/x-python",
   "codemirror_mode": {
    "name": "ipython",
    "version": 3
   },
   "pygments_lexer": "ipython3",
   "nbconvert_exporter": "python",
   "file_extension": ".py"
  },
  "kernelspec": {
   "name": "python3",
   "display_name": "Python 3.8.5 64-bit"
  },
  "interpreter": {
   "hash": "aee8b7b246df8f9039afb4144a1f6fd8d2ca17a180786b69acc140d282b71a49"
  }
 },
 "nbformat": 4,
 "nbformat_minor": 2
}