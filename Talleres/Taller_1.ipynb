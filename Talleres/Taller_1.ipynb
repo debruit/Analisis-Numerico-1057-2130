{
 "cells": [
  {
   "cell_type": "code",
   "execution_count": 7,
   "source": [
    "import math;\n",
    " \n",
    "MAX_ITERATIONS = 10000;\n",
    " \n",
    "# Function to calculate f(x)\n",
    "def f(x):\n",
    " \n",
    "    # Taking f(x) = x ^ 3 + 2x ^ 2 + 10x - 20\n",
    "    return (1 * pow(x, 3) - 2*x - 5);\n",
    " \n",
    "def Muller(a, b, c):\n",
    " \n",
    "    res = 0;\n",
    "    i = 0;\n",
    " \n",
    "    while (True):\n",
    "     \n",
    "        # Calculating various constants\n",
    "        # required to calculate x3\n",
    "        f1 = f(a); f2 = f(b); f3 = f(c);\n",
    "        d1 = f1 - f3;\n",
    "        d2 = f2 - f3;\n",
    "        h1 = a - c;\n",
    "        h2 = b - c;\n",
    "        a0 = f3;\n",
    "        a1 = (((d2 * pow(h1, 2)) -\n",
    "               (d1 * pow(h2, 2))) /\n",
    "              ((h1 * h2) * (h1 - h2)));\n",
    "        a2 = (((d1 * h2) - (d2 * h1)) /\n",
    "              ((h1 * h2) * (h1 - h2)));\n",
    "        x = ((-2 * a0) / (a1 +\n",
    "             abs(math.sqrt(a1 * a1 - 4 * a0 * a2))));\n",
    "        y = ((-2 * a0) / (a1 -\n",
    "            abs(math.sqrt(a1 * a1 - 4 * a0 * a2))));\n",
    " \n",
    "        # Taking the root which is\n",
    "        # closer to x2\n",
    "        if (x >= y):\n",
    "            res = x + c;\n",
    "        else:\n",
    "            res = y + c;\n",
    " \n",
    "        # checking for resemblance of x3\n",
    "        # with x2 till two decimal places\n",
    "        m = res * 100;\n",
    "        n = c * 100;\n",
    "        m = math.floor(m);\n",
    "        n = math.floor(n);\n",
    "        if (m == n):\n",
    "            break;\n",
    "        a = b;\n",
    "        b = c;\n",
    "        c = res;\n",
    "        if (i > MAX_ITERATIONS):\n",
    "            print(\"Root cannot be found using\",\n",
    "                            \"Muller's method\");\n",
    "            break;\n",
    "        i += 1;\n",
    "    if (i <= MAX_ITERATIONS):\n",
    "        print(\"The value of the root is\",\n",
    "                          res);"
   ],
   "outputs": [],
   "metadata": {}
  },
  {
   "cell_type": "code",
   "execution_count": 8,
   "source": [
    "# Driver Code\n",
    "a = 0;\n",
    "b = 1;\n",
    "c = 2;\n",
    "Muller(a, b, c);"
   ],
   "outputs": [
    {
     "output_type": "stream",
     "name": "stdout",
     "text": [
      "The value of the root is 2.0945514318063303\n"
     ]
    }
   ],
   "metadata": {}
  }
 ],
 "metadata": {
  "orig_nbformat": 4,
  "language_info": {
   "name": "python",
   "version": "3.8.5",
   "mimetype": "text/x-python",
   "codemirror_mode": {
    "name": "ipython",
    "version": 3
   },
   "pygments_lexer": "ipython3",
   "nbconvert_exporter": "python",
   "file_extension": ".py"
  },
  "kernelspec": {
   "name": "python3",
   "display_name": "Python 3.8.5 64-bit"
  },
  "interpreter": {
   "hash": "aee8b7b246df8f9039afb4144a1f6fd8d2ca17a180786b69acc140d282b71a49"
  }
 },
 "nbformat": 4,
 "nbformat_minor": 2
}